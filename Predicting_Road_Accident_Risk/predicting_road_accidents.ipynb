{
 "cells": [
  {
   "cell_type": "code",
   "execution_count": 251,
   "id": "a3eb4fb1",
   "metadata": {},
   "outputs": [],
   "source": [
    "import numpy as np\n",
    "import pandas as pd\n",
    "import seaborn as sns\n",
    "import matplotlib.pyplot as plt"
   ]
  },
  {
   "cell_type": "code",
   "execution_count": 252,
   "id": "cf0e0854",
   "metadata": {},
   "outputs": [],
   "source": [
    "train_df = pd.read_csv('/Users/harshitagarwal/Desktop/Kaggle Competitions/Predicting Road Accident Risks/train.csv')\n",
    "test_df = pd.read_csv('/Users/harshitagarwal/Desktop/Kaggle Competitions/Predicting Road Accident Risks/test.csv')"
   ]
  },
  {
   "cell_type": "code",
   "execution_count": 253,
   "id": "550d326c",
   "metadata": {},
   "outputs": [
    {
     "name": "stdout",
     "output_type": "stream",
     "text": [
      "<class 'pandas.core.frame.DataFrame'>\n",
      "RangeIndex: 517754 entries, 0 to 517753\n",
      "Data columns (total 14 columns):\n",
      " #   Column                  Non-Null Count   Dtype  \n",
      "---  ------                  --------------   -----  \n",
      " 0   id                      517754 non-null  int64  \n",
      " 1   road_type               517754 non-null  object \n",
      " 2   num_lanes               517754 non-null  int64  \n",
      " 3   curvature               517754 non-null  float64\n",
      " 4   speed_limit             517754 non-null  int64  \n",
      " 5   lighting                517754 non-null  object \n",
      " 6   weather                 517754 non-null  object \n",
      " 7   road_signs_present      517754 non-null  bool   \n",
      " 8   public_road             517754 non-null  bool   \n",
      " 9   time_of_day             517754 non-null  object \n",
      " 10  holiday                 517754 non-null  bool   \n",
      " 11  school_season           517754 non-null  bool   \n",
      " 12  num_reported_accidents  517754 non-null  int64  \n",
      " 13  accident_risk           517754 non-null  float64\n",
      "dtypes: bool(4), float64(2), int64(4), object(4)\n",
      "memory usage: 41.5+ MB\n"
     ]
    }
   ],
   "source": [
    "train_df.info()"
   ]
  },
  {
   "cell_type": "code",
   "execution_count": 254,
   "id": "6673c59a",
   "metadata": {},
   "outputs": [
    {
     "data": {
      "text/html": [
       "<div>\n",
       "<style scoped>\n",
       "    .dataframe tbody tr th:only-of-type {\n",
       "        vertical-align: middle;\n",
       "    }\n",
       "\n",
       "    .dataframe tbody tr th {\n",
       "        vertical-align: top;\n",
       "    }\n",
       "\n",
       "    .dataframe thead th {\n",
       "        text-align: right;\n",
       "    }\n",
       "</style>\n",
       "<table border=\"1\" class=\"dataframe\">\n",
       "  <thead>\n",
       "    <tr style=\"text-align: right;\">\n",
       "      <th></th>\n",
       "      <th>id</th>\n",
       "      <th>num_lanes</th>\n",
       "      <th>curvature</th>\n",
       "      <th>speed_limit</th>\n",
       "      <th>num_reported_accidents</th>\n",
       "      <th>accident_risk</th>\n",
       "    </tr>\n",
       "  </thead>\n",
       "  <tbody>\n",
       "    <tr>\n",
       "      <th>count</th>\n",
       "      <td>517754.000000</td>\n",
       "      <td>517754.000000</td>\n",
       "      <td>517754.000000</td>\n",
       "      <td>517754.000000</td>\n",
       "      <td>517754.000000</td>\n",
       "      <td>517754.000000</td>\n",
       "    </tr>\n",
       "    <tr>\n",
       "      <th>mean</th>\n",
       "      <td>258876.500000</td>\n",
       "      <td>2.491511</td>\n",
       "      <td>0.488719</td>\n",
       "      <td>46.112575</td>\n",
       "      <td>1.187970</td>\n",
       "      <td>0.352377</td>\n",
       "    </tr>\n",
       "    <tr>\n",
       "      <th>std</th>\n",
       "      <td>149462.849975</td>\n",
       "      <td>1.120434</td>\n",
       "      <td>0.272563</td>\n",
       "      <td>15.788521</td>\n",
       "      <td>0.895961</td>\n",
       "      <td>0.166417</td>\n",
       "    </tr>\n",
       "    <tr>\n",
       "      <th>min</th>\n",
       "      <td>0.000000</td>\n",
       "      <td>1.000000</td>\n",
       "      <td>0.000000</td>\n",
       "      <td>25.000000</td>\n",
       "      <td>0.000000</td>\n",
       "      <td>0.000000</td>\n",
       "    </tr>\n",
       "    <tr>\n",
       "      <th>25%</th>\n",
       "      <td>129438.250000</td>\n",
       "      <td>1.000000</td>\n",
       "      <td>0.260000</td>\n",
       "      <td>35.000000</td>\n",
       "      <td>1.000000</td>\n",
       "      <td>0.230000</td>\n",
       "    </tr>\n",
       "    <tr>\n",
       "      <th>50%</th>\n",
       "      <td>258876.500000</td>\n",
       "      <td>2.000000</td>\n",
       "      <td>0.510000</td>\n",
       "      <td>45.000000</td>\n",
       "      <td>1.000000</td>\n",
       "      <td>0.340000</td>\n",
       "    </tr>\n",
       "    <tr>\n",
       "      <th>75%</th>\n",
       "      <td>388314.750000</td>\n",
       "      <td>3.000000</td>\n",
       "      <td>0.710000</td>\n",
       "      <td>60.000000</td>\n",
       "      <td>2.000000</td>\n",
       "      <td>0.460000</td>\n",
       "    </tr>\n",
       "    <tr>\n",
       "      <th>max</th>\n",
       "      <td>517753.000000</td>\n",
       "      <td>4.000000</td>\n",
       "      <td>1.000000</td>\n",
       "      <td>70.000000</td>\n",
       "      <td>7.000000</td>\n",
       "      <td>1.000000</td>\n",
       "    </tr>\n",
       "  </tbody>\n",
       "</table>\n",
       "</div>"
      ],
      "text/plain": [
       "                  id      num_lanes      curvature    speed_limit  \\\n",
       "count  517754.000000  517754.000000  517754.000000  517754.000000   \n",
       "mean   258876.500000       2.491511       0.488719      46.112575   \n",
       "std    149462.849975       1.120434       0.272563      15.788521   \n",
       "min         0.000000       1.000000       0.000000      25.000000   \n",
       "25%    129438.250000       1.000000       0.260000      35.000000   \n",
       "50%    258876.500000       2.000000       0.510000      45.000000   \n",
       "75%    388314.750000       3.000000       0.710000      60.000000   \n",
       "max    517753.000000       4.000000       1.000000      70.000000   \n",
       "\n",
       "       num_reported_accidents  accident_risk  \n",
       "count           517754.000000  517754.000000  \n",
       "mean                 1.187970       0.352377  \n",
       "std                  0.895961       0.166417  \n",
       "min                  0.000000       0.000000  \n",
       "25%                  1.000000       0.230000  \n",
       "50%                  1.000000       0.340000  \n",
       "75%                  2.000000       0.460000  \n",
       "max                  7.000000       1.000000  "
      ]
     },
     "execution_count": 254,
     "metadata": {},
     "output_type": "execute_result"
    }
   ],
   "source": [
    "train_df.describe()"
   ]
  },
  {
   "cell_type": "code",
   "execution_count": 255,
   "id": "cccbaea5",
   "metadata": {},
   "outputs": [
    {
     "data": {
      "text/html": [
       "<div>\n",
       "<style scoped>\n",
       "    .dataframe tbody tr th:only-of-type {\n",
       "        vertical-align: middle;\n",
       "    }\n",
       "\n",
       "    .dataframe tbody tr th {\n",
       "        vertical-align: top;\n",
       "    }\n",
       "\n",
       "    .dataframe thead th {\n",
       "        text-align: right;\n",
       "    }\n",
       "</style>\n",
       "<table border=\"1\" class=\"dataframe\">\n",
       "  <thead>\n",
       "    <tr style=\"text-align: right;\">\n",
       "      <th></th>\n",
       "      <th>id</th>\n",
       "      <th>road_type</th>\n",
       "      <th>num_lanes</th>\n",
       "      <th>curvature</th>\n",
       "      <th>speed_limit</th>\n",
       "      <th>lighting</th>\n",
       "      <th>weather</th>\n",
       "      <th>road_signs_present</th>\n",
       "      <th>public_road</th>\n",
       "      <th>time_of_day</th>\n",
       "      <th>holiday</th>\n",
       "      <th>school_season</th>\n",
       "      <th>num_reported_accidents</th>\n",
       "      <th>accident_risk</th>\n",
       "    </tr>\n",
       "  </thead>\n",
       "  <tbody>\n",
       "    <tr>\n",
       "      <th>0</th>\n",
       "      <td>0</td>\n",
       "      <td>urban</td>\n",
       "      <td>2</td>\n",
       "      <td>0.06</td>\n",
       "      <td>35</td>\n",
       "      <td>daylight</td>\n",
       "      <td>rainy</td>\n",
       "      <td>False</td>\n",
       "      <td>True</td>\n",
       "      <td>afternoon</td>\n",
       "      <td>False</td>\n",
       "      <td>True</td>\n",
       "      <td>1</td>\n",
       "      <td>0.13</td>\n",
       "    </tr>\n",
       "    <tr>\n",
       "      <th>1</th>\n",
       "      <td>1</td>\n",
       "      <td>urban</td>\n",
       "      <td>4</td>\n",
       "      <td>0.99</td>\n",
       "      <td>35</td>\n",
       "      <td>daylight</td>\n",
       "      <td>clear</td>\n",
       "      <td>True</td>\n",
       "      <td>False</td>\n",
       "      <td>evening</td>\n",
       "      <td>True</td>\n",
       "      <td>True</td>\n",
       "      <td>0</td>\n",
       "      <td>0.35</td>\n",
       "    </tr>\n",
       "    <tr>\n",
       "      <th>2</th>\n",
       "      <td>2</td>\n",
       "      <td>rural</td>\n",
       "      <td>4</td>\n",
       "      <td>0.63</td>\n",
       "      <td>70</td>\n",
       "      <td>dim</td>\n",
       "      <td>clear</td>\n",
       "      <td>False</td>\n",
       "      <td>True</td>\n",
       "      <td>morning</td>\n",
       "      <td>True</td>\n",
       "      <td>False</td>\n",
       "      <td>2</td>\n",
       "      <td>0.30</td>\n",
       "    </tr>\n",
       "    <tr>\n",
       "      <th>3</th>\n",
       "      <td>3</td>\n",
       "      <td>highway</td>\n",
       "      <td>4</td>\n",
       "      <td>0.07</td>\n",
       "      <td>35</td>\n",
       "      <td>dim</td>\n",
       "      <td>rainy</td>\n",
       "      <td>True</td>\n",
       "      <td>True</td>\n",
       "      <td>morning</td>\n",
       "      <td>False</td>\n",
       "      <td>False</td>\n",
       "      <td>1</td>\n",
       "      <td>0.21</td>\n",
       "    </tr>\n",
       "    <tr>\n",
       "      <th>4</th>\n",
       "      <td>4</td>\n",
       "      <td>rural</td>\n",
       "      <td>1</td>\n",
       "      <td>0.58</td>\n",
       "      <td>60</td>\n",
       "      <td>daylight</td>\n",
       "      <td>foggy</td>\n",
       "      <td>False</td>\n",
       "      <td>False</td>\n",
       "      <td>evening</td>\n",
       "      <td>True</td>\n",
       "      <td>False</td>\n",
       "      <td>1</td>\n",
       "      <td>0.56</td>\n",
       "    </tr>\n",
       "  </tbody>\n",
       "</table>\n",
       "</div>"
      ],
      "text/plain": [
       "   id road_type  num_lanes  curvature  speed_limit  lighting weather  \\\n",
       "0   0     urban          2       0.06           35  daylight   rainy   \n",
       "1   1     urban          4       0.99           35  daylight   clear   \n",
       "2   2     rural          4       0.63           70       dim   clear   \n",
       "3   3   highway          4       0.07           35       dim   rainy   \n",
       "4   4     rural          1       0.58           60  daylight   foggy   \n",
       "\n",
       "   road_signs_present  public_road time_of_day  holiday  school_season  \\\n",
       "0               False         True   afternoon    False           True   \n",
       "1                True        False     evening     True           True   \n",
       "2               False         True     morning     True          False   \n",
       "3                True         True     morning    False          False   \n",
       "4               False        False     evening     True          False   \n",
       "\n",
       "   num_reported_accidents  accident_risk  \n",
       "0                       1           0.13  \n",
       "1                       0           0.35  \n",
       "2                       2           0.30  \n",
       "3                       1           0.21  \n",
       "4                       1           0.56  "
      ]
     },
     "execution_count": 255,
     "metadata": {},
     "output_type": "execute_result"
    }
   ],
   "source": [
    "train_df.head(5)"
   ]
  },
  {
   "cell_type": "code",
   "execution_count": 256,
   "id": "49f08915",
   "metadata": {},
   "outputs": [],
   "source": [
    "encoding = {\n",
    "    True:1,\n",
    "    False:0\n",
    "}"
   ]
  },
  {
   "cell_type": "code",
   "execution_count": 257,
   "id": "f62a38a2",
   "metadata": {},
   "outputs": [],
   "source": [
    "train_df['road_signs_present'] = train_df['road_signs_present'].map(encoding)\n",
    "train_df['public_road']=train_df['public_road'].map(encoding)\n",
    "train_df['holiday']=train_df['holiday'].map(encoding)\n",
    "train_df['school_season']=train_df['school_season'].map(encoding)"
   ]
  },
  {
   "cell_type": "code",
   "execution_count": 258,
   "id": "a5033712",
   "metadata": {},
   "outputs": [
    {
     "data": {
      "text/html": [
       "<div>\n",
       "<style scoped>\n",
       "    .dataframe tbody tr th:only-of-type {\n",
       "        vertical-align: middle;\n",
       "    }\n",
       "\n",
       "    .dataframe tbody tr th {\n",
       "        vertical-align: top;\n",
       "    }\n",
       "\n",
       "    .dataframe thead th {\n",
       "        text-align: right;\n",
       "    }\n",
       "</style>\n",
       "<table border=\"1\" class=\"dataframe\">\n",
       "  <thead>\n",
       "    <tr style=\"text-align: right;\">\n",
       "      <th></th>\n",
       "      <th>id</th>\n",
       "      <th>road_type</th>\n",
       "      <th>num_lanes</th>\n",
       "      <th>curvature</th>\n",
       "      <th>speed_limit</th>\n",
       "      <th>lighting</th>\n",
       "      <th>weather</th>\n",
       "      <th>road_signs_present</th>\n",
       "      <th>public_road</th>\n",
       "      <th>time_of_day</th>\n",
       "      <th>holiday</th>\n",
       "      <th>school_season</th>\n",
       "      <th>num_reported_accidents</th>\n",
       "      <th>accident_risk</th>\n",
       "    </tr>\n",
       "  </thead>\n",
       "  <tbody>\n",
       "    <tr>\n",
       "      <th>0</th>\n",
       "      <td>0</td>\n",
       "      <td>urban</td>\n",
       "      <td>2</td>\n",
       "      <td>0.06</td>\n",
       "      <td>35</td>\n",
       "      <td>daylight</td>\n",
       "      <td>rainy</td>\n",
       "      <td>0</td>\n",
       "      <td>1</td>\n",
       "      <td>afternoon</td>\n",
       "      <td>0</td>\n",
       "      <td>1</td>\n",
       "      <td>1</td>\n",
       "      <td>0.13</td>\n",
       "    </tr>\n",
       "    <tr>\n",
       "      <th>1</th>\n",
       "      <td>1</td>\n",
       "      <td>urban</td>\n",
       "      <td>4</td>\n",
       "      <td>0.99</td>\n",
       "      <td>35</td>\n",
       "      <td>daylight</td>\n",
       "      <td>clear</td>\n",
       "      <td>1</td>\n",
       "      <td>0</td>\n",
       "      <td>evening</td>\n",
       "      <td>1</td>\n",
       "      <td>1</td>\n",
       "      <td>0</td>\n",
       "      <td>0.35</td>\n",
       "    </tr>\n",
       "    <tr>\n",
       "      <th>2</th>\n",
       "      <td>2</td>\n",
       "      <td>rural</td>\n",
       "      <td>4</td>\n",
       "      <td>0.63</td>\n",
       "      <td>70</td>\n",
       "      <td>dim</td>\n",
       "      <td>clear</td>\n",
       "      <td>0</td>\n",
       "      <td>1</td>\n",
       "      <td>morning</td>\n",
       "      <td>1</td>\n",
       "      <td>0</td>\n",
       "      <td>2</td>\n",
       "      <td>0.30</td>\n",
       "    </tr>\n",
       "    <tr>\n",
       "      <th>3</th>\n",
       "      <td>3</td>\n",
       "      <td>highway</td>\n",
       "      <td>4</td>\n",
       "      <td>0.07</td>\n",
       "      <td>35</td>\n",
       "      <td>dim</td>\n",
       "      <td>rainy</td>\n",
       "      <td>1</td>\n",
       "      <td>1</td>\n",
       "      <td>morning</td>\n",
       "      <td>0</td>\n",
       "      <td>0</td>\n",
       "      <td>1</td>\n",
       "      <td>0.21</td>\n",
       "    </tr>\n",
       "    <tr>\n",
       "      <th>4</th>\n",
       "      <td>4</td>\n",
       "      <td>rural</td>\n",
       "      <td>1</td>\n",
       "      <td>0.58</td>\n",
       "      <td>60</td>\n",
       "      <td>daylight</td>\n",
       "      <td>foggy</td>\n",
       "      <td>0</td>\n",
       "      <td>0</td>\n",
       "      <td>evening</td>\n",
       "      <td>1</td>\n",
       "      <td>0</td>\n",
       "      <td>1</td>\n",
       "      <td>0.56</td>\n",
       "    </tr>\n",
       "  </tbody>\n",
       "</table>\n",
       "</div>"
      ],
      "text/plain": [
       "   id road_type  num_lanes  curvature  speed_limit  lighting weather  \\\n",
       "0   0     urban          2       0.06           35  daylight   rainy   \n",
       "1   1     urban          4       0.99           35  daylight   clear   \n",
       "2   2     rural          4       0.63           70       dim   clear   \n",
       "3   3   highway          4       0.07           35       dim   rainy   \n",
       "4   4     rural          1       0.58           60  daylight   foggy   \n",
       "\n",
       "   road_signs_present  public_road time_of_day  holiday  school_season  \\\n",
       "0                   0            1   afternoon        0              1   \n",
       "1                   1            0     evening        1              1   \n",
       "2                   0            1     morning        1              0   \n",
       "3                   1            1     morning        0              0   \n",
       "4                   0            0     evening        1              0   \n",
       "\n",
       "   num_reported_accidents  accident_risk  \n",
       "0                       1           0.13  \n",
       "1                       0           0.35  \n",
       "2                       2           0.30  \n",
       "3                       1           0.21  \n",
       "4                       1           0.56  "
      ]
     },
     "execution_count": 258,
     "metadata": {},
     "output_type": "execute_result"
    }
   ],
   "source": [
    "train_df.head(5)"
   ]
  },
  {
   "cell_type": "code",
   "execution_count": 259,
   "id": "f56d20ca",
   "metadata": {},
   "outputs": [
    {
     "data": {
      "text/plain": [
       "accident_risk             1.000000\n",
       "curvature                 0.543946\n",
       "speed_limit               0.430898\n",
       "num_reported_accidents    0.213891\n",
       "holiday                   0.051129\n",
       "public_road               0.031032\n",
       "id                        0.000969\n",
       "road_signs_present        0.000629\n",
       "school_season            -0.000977\n",
       "num_lanes                -0.006003\n",
       "Name: accident_risk, dtype: float64"
      ]
     },
     "execution_count": 259,
     "metadata": {},
     "output_type": "execute_result"
    }
   ],
   "source": [
    "train_df.corr(numeric_only=True)['accident_risk'].sort_values(ascending=False)"
   ]
  },
  {
   "cell_type": "code",
   "execution_count": 260,
   "id": "de873c01",
   "metadata": {},
   "outputs": [],
   "source": [
    "train_df['num_reported_accidents'] = train_df['num_reported_accidents']**3\n",
    "train_df['accident_num_lanes'] = train_df['num_reported_accidents'] * train_df['num_lanes']\n",
    "train_df['curvature_speed'] = train_df['curvature'] * train_df['speed_limit']\n",
    "train_df['curvature_accidents'] = train_df['curvature'] * train_df['num_reported_accidents']"
   ]
  },
  {
   "cell_type": "code",
   "execution_count": 261,
   "id": "80617e83",
   "metadata": {},
   "outputs": [
    {
     "data": {
      "text/plain": [
       "accident_risk             1.000000\n",
       "curvature_speed           0.675621\n",
       "curvature                 0.543946\n",
       "speed_limit               0.430898\n",
       "curvature_accidents       0.395320\n",
       "num_reported_accidents    0.309962\n",
       "accident_num_lanes        0.275388\n",
       "holiday                   0.051129\n",
       "public_road               0.031032\n",
       "id                        0.000969\n",
       "road_signs_present        0.000629\n",
       "school_season            -0.000977\n",
       "num_lanes                -0.006003\n",
       "Name: accident_risk, dtype: float64"
      ]
     },
     "execution_count": 261,
     "metadata": {},
     "output_type": "execute_result"
    }
   ],
   "source": [
    "train_df.corr(numeric_only=True)['accident_risk'].sort_values(ascending=False)"
   ]
  },
  {
   "cell_type": "code",
   "execution_count": 262,
   "id": "c5ea7153",
   "metadata": {},
   "outputs": [],
   "source": [
    "x2 = train_df.drop(['id','accident_risk'],axis=1)\n",
    "y = train_df[['accident_risk']]"
   ]
  },
  {
   "cell_type": "code",
   "execution_count": 263,
   "id": "5f4400b4",
   "metadata": {},
   "outputs": [],
   "source": [
    "x1 = pd.get_dummies(x2)"
   ]
  },
  {
   "cell_type": "code",
   "execution_count": 264,
   "id": "7d2b8673",
   "metadata": {},
   "outputs": [],
   "source": [
    "from xgboost import XGBRegressor\n",
    "from sklearn.preprocessing import StandardScaler\n",
    "from sklearn.preprocessing import MinMaxScaler\n",
    "from sklearn.model_selection import train_test_split\n",
    "from sklearn.metrics import mean_squared_error,r2_score,mean_absolute_error"
   ]
  },
  {
   "cell_type": "code",
   "execution_count": 265,
   "id": "a6da3589",
   "metadata": {},
   "outputs": [],
   "source": [
    "x_train, x_test, y_train, y_test=train_test_split(x,y,test_size=.10,random_state=42)"
   ]
  },
  {
   "cell_type": "code",
   "execution_count": 266,
   "id": "98b16306",
   "metadata": {},
   "outputs": [
    {
     "data": {
      "text/plain": [
       "0.05614279168195015"
      ]
     },
     "execution_count": 266,
     "metadata": {},
     "output_type": "execute_result"
    }
   ],
   "source": [
    "xgb=XGBRegressor()\n",
    "model = xgb.fit(x_train,y_train)\n",
    "prediction = model.predict(x_test)\n",
    "mean_squared_error(y_test,prediction)**.5"
   ]
  },
  {
   "cell_type": "code",
   "execution_count": 267,
   "id": "16940c26",
   "metadata": {},
   "outputs": [],
   "source": [
    "test_df['num_reported_accidents'] = test_df['num_reported_accidents']**3\n",
    "test_df['accident_num_lanes'] = test_df['num_reported_accidents'] * test_df['num_lanes']\n",
    "test_df['curvature_speed'] = test_df['curvature'] * test_df['speed_limit']\n",
    "test_df['curvature_accidents'] = test_df['curvature'] * test_df['num_reported_accidents']\n",
    "test_x = test_df.drop(['id'],axis=1)\n",
    "test_x2 = pd.get_dummies(test_x)\n",
    "test_x3=MinMaxScaler().fit_transform(test_x2)"
   ]
  },
  {
   "cell_type": "code",
   "execution_count": 268,
   "id": "889ac8f8",
   "metadata": {},
   "outputs": [],
   "source": [
    "xgb = XGBRegressor()\n",
    "kaggle_model = xgb.fit(x,y)\n",
    "prediction=kaggle_model.predict(test_x3)"
   ]
  },
  {
   "cell_type": "code",
   "execution_count": 269,
   "id": "e31eeb71",
   "metadata": {},
   "outputs": [],
   "source": [
    "new_data = pd.DataFrame()"
   ]
  },
  {
   "cell_type": "code",
   "execution_count": 270,
   "id": "6d4a0d52",
   "metadata": {},
   "outputs": [],
   "source": [
    "new_data.index = test_df['id']"
   ]
  },
  {
   "cell_type": "code",
   "execution_count": 271,
   "id": "136a1cdf",
   "metadata": {},
   "outputs": [],
   "source": [
    "new_data['accident_risk']=prediction"
   ]
  },
  {
   "cell_type": "code",
   "execution_count": 272,
   "id": "a7edb015",
   "metadata": {},
   "outputs": [
    {
     "data": {
      "text/html": [
       "<div>\n",
       "<style scoped>\n",
       "    .dataframe tbody tr th:only-of-type {\n",
       "        vertical-align: middle;\n",
       "    }\n",
       "\n",
       "    .dataframe tbody tr th {\n",
       "        vertical-align: top;\n",
       "    }\n",
       "\n",
       "    .dataframe thead th {\n",
       "        text-align: right;\n",
       "    }\n",
       "</style>\n",
       "<table border=\"1\" class=\"dataframe\">\n",
       "  <thead>\n",
       "    <tr style=\"text-align: right;\">\n",
       "      <th></th>\n",
       "      <th>accident_risk</th>\n",
       "    </tr>\n",
       "    <tr>\n",
       "      <th>id</th>\n",
       "      <th></th>\n",
       "    </tr>\n",
       "  </thead>\n",
       "  <tbody>\n",
       "    <tr>\n",
       "      <th>517754</th>\n",
       "      <td>0.290477</td>\n",
       "    </tr>\n",
       "    <tr>\n",
       "      <th>517755</th>\n",
       "      <td>0.122612</td>\n",
       "    </tr>\n",
       "    <tr>\n",
       "      <th>517756</th>\n",
       "      <td>0.171400</td>\n",
       "    </tr>\n",
       "    <tr>\n",
       "      <th>517757</th>\n",
       "      <td>0.307942</td>\n",
       "    </tr>\n",
       "    <tr>\n",
       "      <th>517758</th>\n",
       "      <td>0.409922</td>\n",
       "    </tr>\n",
       "  </tbody>\n",
       "</table>\n",
       "</div>"
      ],
      "text/plain": [
       "        accident_risk\n",
       "id                   \n",
       "517754       0.290477\n",
       "517755       0.122612\n",
       "517756       0.171400\n",
       "517757       0.307942\n",
       "517758       0.409922"
      ]
     },
     "execution_count": 272,
     "metadata": {},
     "output_type": "execute_result"
    }
   ],
   "source": [
    "new_data.head(5)"
   ]
  },
  {
   "cell_type": "code",
   "execution_count": 273,
   "id": "6f7ffa59",
   "metadata": {},
   "outputs": [],
   "source": [
    "new_data.to_csv('submission_xgboost.csv')"
   ]
  }
 ],
 "metadata": {
  "kernelspec": {
   "display_name": "Python 3",
   "language": "python",
   "name": "python3"
  },
  "language_info": {
   "codemirror_mode": {
    "name": "ipython",
    "version": 3
   },
   "file_extension": ".py",
   "mimetype": "text/x-python",
   "name": "python",
   "nbconvert_exporter": "python",
   "pygments_lexer": "ipython3",
   "version": "3.9.6"
  }
 },
 "nbformat": 4,
 "nbformat_minor": 5
}
